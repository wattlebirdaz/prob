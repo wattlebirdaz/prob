{
 "cells": [
  {
   "cell_type": "markdown",
   "metadata": {},
   "source": [
    "# Range Queries\n",
    "\n",
    "The fundamental distinction between operations that achieve $O(1)$ query time and those that operate in $O(logN)$ time primarily hinges on the nature of the query being performed. Specifically, $O(1)$ query time is typically associated with exact match queries, where the query is performed using a precise key to retrieve a corresponding value from a data structure, such as in the case of hash-based structures. On the other hand, $O(logN)$ query time is often linked to operations that involve a search or range query, where the goal is to locate an item or a set of items based on certain criteria within a sorted dataset, as seen in sort-based data structures like binary search trees. This distinction underscores the different capabilities and optimal use cases of these data structures, with hash-based structures excelling in scenarios requiring rapid access to individual items through specific keys, and sort-based structures being more suited to applications that benefit from ordered data and the ability to efficiently conduct searches or range queries."
   ]
  },
  {
   "cell_type": "markdown",
   "metadata": {},
   "source": [
    "1. Consider a scenario where you have a sorted list of numbers and need to determine the count of numbers within a specified range $[a, b]$. An offline data structure can be prepared using $O(N)$ time and space before executing any queries. For instance, with the list $[0.1, 0.4, 0.6, 0.9]$, the objective is to identify how many numbers fall within the range $[0.4, 0.7]$.\n",
    "\n",
    "    - **Exact Match Range Query**: If it is guaranteed that the range boundaries $a$ and $b$ correspond to numbers already present in the list, the query can be executed in $O(1)$ time. This approach involves initially creating a hashmap where each number in the list is a key. Subsequently, as the list is traversed, a cumulative count of numbers up to and including each element is recorded. Thus, for a given query, the total count of numbers within the range $[a, b]$ is efficiently computed as $hashmap(b) - hashmap(a)$, leveraging the precomputed counts.\n",
    "\n",
    "    - **Arbitrary Range Query**: If the range boundaries $a$ and $b$ can be any arbitrary numbers, potentially not present in the list, the approach requires a binary search to locate the smallest number in the list that is equal to or greater than $a$. Following this, the list is iterated over until an element is encountered that exceeds $b$. This method ensures that all numbers within the range are accurately counted, accommodating the possibility of $a$ and $b$ not aligning with the list's elements.\n"
   ]
  },
  {
   "cell_type": "markdown",
   "metadata": {},
   "source": [
    "# Range Trees\n",
    "\n"
   ]
  },
  {
   "cell_type": "markdown",
   "metadata": {},
   "source": [
    "<img src=\"range_tree.png\" alt=\"Range Tree\">"
   ]
  },
  {
   "cell_type": "markdown",
   "metadata": {},
   "source": [
    "source: https://www.cs.umd.edu/class/fall2020/cmsc420-0201/Lects/lect17-range-tree.pdf"
   ]
  },
  {
   "cell_type": "markdown",
   "metadata": {},
   "source": [
    "<img src=\"range_search.png\" alt=\"Range Tree Search\">"
   ]
  },
  {
   "cell_type": "markdown",
   "metadata": {},
   "source": [
    "source: https://ima.udg.edu/~sellares/ComGeo/RangeTrees4Ms.pdf"
   ]
  },
  {
   "cell_type": "markdown",
   "metadata": {},
   "source": [
    "The space complexity of a 2D range tree, designed to manage points along both the x-axis and y-axis, is $O(N\\log N)$. This calculation arises because each level of the tree encompasses all $N$ points, necessitating multiple trees for the secondary axis. However, the collective size of these secondary axis trees remains $O(N)$, and with there being $O(\\log N)$ levels on the primary axis, the overall space complexity consolidates to $O(N\\log N)$.\n",
    "\n",
    "When this framework is extended to 3D range trees, where each level consists of multiple 2D range trees, the space complexity increases to $O(\\log N \\cdot N\\log N) = O(N\\log^2 N)$. By following this pattern, the space complexity for a range tree in $d$ dimensions can be generalized to $O(N\\log^{d-1} N)$, reflecting the complex hierarchical structure inherent in multidimensional range trees.\n",
    "\n",
    "In terms of query time for executing rectangular (or by extension, hyper-rectangular) queries, the complexity within a 2D framework is $O(\\log^2 N)$. This stems from the fact that a query into a x-axis finds at most $2$ nodes in each $logN$ levels, which amounts to $O(logN)$. For each node we need to perform $O(\\log N)$ search targeting the y-axis. By applying this principle inductively, the query time for handling queries in a $d$-dimensional range tree scales to $O(\\log^{d} N)$, due to the logarithmic operations required across each dimension for every split.\n"
   ]
  },
  {
   "cell_type": "markdown",
   "metadata": {},
   "source": [
    "Range search is similar to conditional probability. The chain rule in conditional probability can be seen as \n",
    "\n",
    "$P(X, Y, Z) = P(Z | Y, X) * P(Y | X) * P(X)$\n",
    "\n",
    "$P(Y | X)$ can be seen as \"Given $X$, build a range tree on $Y$\"\n",
    "$P(Z | Y, X)$ can be seen as \"Given $X, Y$, build a range tree on $Z$\""
   ]
  }
 ],
 "metadata": {
  "kernelspec": {
   "display_name": "Python 3",
   "language": "python",
   "name": "python3"
  },
  "language_info": {
   "name": "python",
   "version": "3.11.0"
  }
 },
 "nbformat": 4,
 "nbformat_minor": 2
}
