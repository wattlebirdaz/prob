{
 "cells": [
  {
   "cell_type": "markdown",
   "metadata": {},
   "source": [
    "# Locality-Sensitive Hashing\n",
    "\n",
    "Locality-Sensitive Hashing (LSH) is a method used to efficiently find approximate nearest neighbors in large datasets. The main idea behind LSH is to hash input items in such a way that similar items are mapped to the same \"buckets\" with high probability (i.e., they have the same hash value), while items that are dissimilar have a low probability of being placed in the same bucket. This method significantly reduces the computational cost of searching for similar items by limiting the search to items in the same bucket rather than comparing every item with every other item.\n",
    "\n",
    "**Definition.** A hash function $h_1 : \\mathbb{R}^d \\rightarrow \\{0, 1\\}^{mk}$ is called locality-sensitive if for any two input items $p, q \\in \\mathbb{R}^d$, the probability that $h_1(p) = h_1(q)$ is equal to the similarity measure between $p$ and $q$, denoted as $\\text{Pr}[h_1(p) = h_1(q)] = \\text{sim}(p, q)$, where $\\text{sim}(p, q) \\in [0, 1]$.\n",
    "\n",
    "\n",
    "1. **Hash Functions in LSH**: In LSH, hash functions are designed so that the probability of collision (i.e., two items being mapped to the same hash value) is proportional to their similarity. The hash function $h$ satisfies two key properties:\n",
    "   - $P(h(x) = h(y)) = 1$ if $x = y$, meaning identical items will always hash to the same value.\n",
    "   - $P(h(x) \\neq h(y)) = \\text{sim}(x, y)$ if $x \\neq y$, meaning the probability of different items having different hash values is proportional to their similarity. The similarity measure $\\text{sim}(x, y)$ is a value between 0 and 1, where 1 indicates identical items and 0 indicates completely dissimilar items.\n",
    "\n",
    "2. **Similarity and Distance**: The similarity measure must satisfy the triangle inequality to be a valid metric. The distance $d(x, y)$ between two items $x$ and $y$ can be defined as $1 - \\text{sim}(x, y)$, which is the complement of their similarity. This ensures that the closer the items are in terms of their content, the smaller the distance between them.\n",
    "\n",
    "3. **Triangle Inequality and LSH**: The triangle inequality for distances states that for any three items $x$, $y$, and $z$, the sum of the distances between two of the items is always greater than or equal to the distance between the third pair, i.e., $d(x, y) + d(y, z) \\geq d(x, z)$. In the context of LSH, this means that if two items are similar to a third item, they are likely to be similar to each other as well. This principle helps in ensuring the consistency of similarity and distance measures within the hashed space.\n",
    "\n",
    "In practice, LSH is used by search engines like Google to efficiently identify and eliminate duplicate or nearly identical web pages. By hashing web pages and grouping them into buckets based on their hash values, Google can quickly identify pages that are likely to be duplicates or very similar, based on the principle that these pages will hash to the same or similar buckets. This helps in reducing redundancy in search results and improving the overall quality of the search experience. The use of LSH allows for a scalable and efficient approach to this problem, even as the size of the web and the number of pages continue to grow exponentially."
   ]
  }
 ],
 "metadata": {
  "kernelspec": {
   "display_name": "Python 3",
   "language": "python",
   "name": "python3"
  },
  "language_info": {
   "codemirror_mode": {
    "name": "ipython",
    "version": 3
   },
   "file_extension": ".py",
   "mimetype": "text/x-python",
   "name": "python",
   "nbconvert_exporter": "python",
   "pygments_lexer": "ipython3",
   "version": "3.11.0rc2"
  }
 },
 "nbformat": 4,
 "nbformat_minor": 2
}
