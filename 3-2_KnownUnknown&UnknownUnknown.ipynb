{
 "cells": [
  {
   "cell_type": "markdown",
   "metadata": {},
   "source": [
    "# Known Unknowns\n",
    "\n",
    "## Problem\n",
    "\n",
    "We know the universe of characters. We want to find the characters that are not in the given list.\n",
    "\n",
    "## Input\n",
    "\n",
    "$X$ is the universe of characters.\n",
    "$S$ is the list of characters.\n",
    "\n",
    "## Algorithm\n",
    "\n",
    "Create a sketch of $S$. For each character in $X$, check if it is in the sketch. If it is not, add it to the list of characters that are not in $S$.\n",
    "\n",
    "This kind of problem is generally goes well with sketching algorithms e.g. Histogram, HyperLogLog, CountMinSketch etc.\n",
    "\n",
    "<img src=\"images/known_unknowns.JPG\" alt=\"Histogram\" width=\"400\"/>"
   ]
  },
  {
   "cell_type": "markdown",
   "metadata": {},
   "source": [
    "# Unknown Unknowns\n",
    "\n",
    "## Problem\n",
    "\n",
    "We don't know the universe of characters. We want to estimate the size of the universe of characters from a sample of characters.\n",
    "\n",
    "## Input\n",
    "\n",
    "You are given a empty set $S$ and a stream of characters.\n",
    "Every day a new character is added to the set from the stream.\n",
    "You will estimate the size of the universe of characters from the set $S$.\n",
    "\n",
    "## Algorithm\n",
    "\n",
    "Good Turing Smoothing is a technique to estimate the size of the universe of characters from a sample of characters. It is a statistical technique that uses the frequency of characters to estimate the size of the universe of characters. This utilizes the diminishing returns of the frequency of characters.\n",
    "\n",
    "\n",
    "<img src=\"images/unknown_unknowns.JPG\" alt=\"Good Turing\" width=\"400\"/>\n"
   ]
  }
 ],
 "metadata": {
  "language_info": {
   "name": "python"
  }
 },
 "nbformat": 4,
 "nbformat_minor": 2
}
